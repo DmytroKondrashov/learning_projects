{
 "cells": [
  {
   "cell_type": "code",
   "execution_count": null,
   "id": "081c4477-0b7c-4a4c-a101-9e9be2222e84",
   "metadata": {},
   "outputs": [],
   "source": []
  }
 ],
 "metadata": {
  "kernelspec": {
   "display_name": "",
   "name": ""
  },
  "language_info": {
   "name": ""
  }
 },
 "nbformat": 4,
 "nbformat_minor": 5
}
